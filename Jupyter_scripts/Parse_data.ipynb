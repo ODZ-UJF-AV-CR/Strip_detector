{
 "cells": [
  {
   "cell_type": "code",
   "execution_count": 60,
   "metadata": {},
   "outputs": [
    {
     "name": "stdout",
     "output_type": "stream",
     "text": [
      "strip_data.log\n"
     ]
    },
    {
     "data": {
      "image/png": "[encoded data removed]",
      "text/plain": [
       "<Figure size 432x288 with 1 Axes>"
      ]
     },
     "metadata": {
      "needs_background": "light"
     },
     "output_type": "display_data"
    }
   ],
   "source": [
    "#!/usr/bin/env python\n",
    "#-*- coding: utf-8 -*-\n",
    "\n",
    "import os\n",
    "import pandas as pd\n",
    "import numpy as np\n",
    "import matplotlib.pyplot as plt\n",
    "\n",
    "def main():\n",
    "    filename = '/home/sommema4/git/Strip_detectors/Data/strip_data.log' # write the path to datalog\n",
    "    basename = os.path.basename(filename)\n",
    "    print(basename)\n",
    "    \n",
    "    layers = read_data(filename) # read data into list od DatFrames\n",
    "    [top, second, third, bottom] = layers # now you can access the induvidual layers by its name (unzips to list called layers)\n",
    "    \n",
    "    top = particles(top) # run function particles on the top layer\n",
    "    \n",
    "    plot_particles(top)\n",
    "    plot_response(top, 30)\n",
    "    \n",
    "\n",
    "def read_data(filename):\n",
    "    '''\n",
    "    Reads data and puts them into pandas DataFrames - each layer has its own DataFrame\n",
    "    '''\n",
    "\n",
    "    out = []\n",
    "    df = pd.read_csv(filename)\n",
    "    aux_df = df.iloc[:, 0:7]\n",
    "    aux_df.columns = ['date', 'time', 'unix', 'idk1', 'idk2', 'idk3', 'idk4']\n",
    "    \n",
    "    cols = np.linspace(1, 64, 64)\n",
    "    cols = [str(int(x)) for x in cols]\n",
    "    for i in range(4):\n",
    "        df_layer = df.iloc[:, 7+64*i:7+64*(i+1)]\n",
    "        df_layer.columns = cols\n",
    "        df_layer = pd.concat([aux_df, df_layer], axis=1)\n",
    "        out.append(df_layer)\n",
    "    return out\n",
    "\n",
    "def particles(df):\n",
    "    '''\n",
    "    Returns number of detected particles in a layer and saves it to a new column called 'particles' \n",
    "    '''\n",
    "    \n",
    "    df_data = df.loc[:, '1':'64'] # select only columns with data - without auxiliary information such as time, etc.\n",
    "    df['particles'] = df_data.apply(count_layer, axis=1) # run function count_layer on each row of the df_data DataFrame\n",
    "    #print(df['particles'])\n",
    "    return df\n",
    "    \n",
    "def count_layer(row):\n",
    "    '''\n",
    "    Auxiliary function for function particle\n",
    "    '''\n",
    "    \n",
    "    dat = row[row != 0] # remove zeros strips\n",
    "    out = len(dat) # get number of clusters\n",
    "    return out\n",
    "\n",
    "def plot_particles(df):\n",
    "    '''\n",
    "    Plots figure that shows number of particles as a function of time\n",
    "    '''\n",
    "    \n",
    "    plt.plot(df['particles'])\n",
    "\n",
    "def plot_response(df, col):\n",
    "    '''\n",
    "    Plots figure that shows response of one strip of a layer during the whole measurement\n",
    "    '''\n",
    "    \n",
    "    bins = np.linspace(0, 1000, 200) # create bins that are used for the response histogram\n",
    "    data = df[str(col)] # select correct column\n",
    "    data = data[data!=0] # remove zeros - we do not care about zero responses\n",
    "    \n",
    "    plt.hist(data, bins=bins, histtype='step') # create histogram from data and with bins\n",
    "    \n",
    "main()"
   ]
  },
  {
   "cell_type": "code",
   "execution_count": null,
   "metadata": {},
   "outputs": [],
   "source": []
  }
 ],
 "metadata": {
  "kernelspec": {
   "display_name": "Python 3",
   "language": "python",
   "name": "ipython_py3"
  },
  "language_info": {
   "codemirror_mode": {
    "name": "ipython",
    "version": 3
   },
   "file_extension": ".py",
   "mimetype": "text/x-python",
   "name": "python",
   "nbconvert_exporter": "python",
   "pygments_lexer": "ipython3",
   "version": "3.7.6"
  }
 },
 "nbformat": 4,
 "nbformat_minor": 4
}
